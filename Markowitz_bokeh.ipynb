{
 "cells": [
  {
   "cell_type": "code",
   "execution_count": 91,
   "metadata": {
    "scrolled": true
   },
   "outputs": [],
   "source": [
    "import numpy as np\n",
    "\n",
    "# input\n",
    "N=100\n",
    "returns = np.array([0.04,0.06])\n",
    "volas = np.array([0.06,0.10])\n",
    "corr_coef=0\n",
    "corr = np.array([[1, corr_coef],[corr_coef, 1]])\n",
    "cov = np.diag(volas) @ corr @ np.diag(volas)\n",
    "#print(cov)\n",
    "\n",
    "# min var pf\n",
    "minvar_w = np.divide(np.linalg.inv(cov) @ np.ones(len(returns)), np.ones(len(returns)).T @ np.linalg.inv(cov) @ np.ones(len(returns)))\n",
    "w1 = np.linspace(0, 1, N)\n",
    "w2=1-w1\n",
    "w = np.array([w1,w2]).T\n",
    "#w"
   ]
  },
  {
   "cell_type": "code",
   "execution_count": 92,
   "metadata": {},
   "outputs": [],
   "source": [
    "#def calc_return(w,returns):\n",
    "#    return w @ returns.T\n",
    "#def calc_vola(w,cov):\n",
    "#    volas = np.zeros(np.shape(w)[0])\n",
    "#    cov_big = cov\n",
    "#    for i in range(0,np.shape(w)[0]):\n",
    "#        volas[i] = np.sqrt(w[i,:] @ cov @ w[i,:].T)\n",
    "#    return volas\n",
    "\n",
    "A = np.array(returns).T @ np.linalg.inv(cov) @ np.ones(len(returns))\n",
    "B = np.array(returns).T @ np.linalg.inv(cov) @ np.array(returns)\n",
    "C = np.ones(len(returns)).T @ np.linalg.inv(cov) @ np.ones(len(returns))\n",
    "D = B * C - A**2\n",
    "\n",
    "exp_return = np.linspace(min(returns), max(returns), num=100)\n",
    "sigma_return = np.sqrt(1/D * (C * np.multiply(exp_return, exp_return) - 2 * A * exp_return + B))"
   ]
  },
  {
   "cell_type": "code",
   "execution_count": 93,
   "metadata": {},
   "outputs": [],
   "source": [
    "#x = calc_vola(w,cov)\n",
    "#y = calc_return(w,returns)\n",
    "\n",
    "x = sigma_return \n",
    "y = exp_return \n",
    "\n",
    "pf_ret = calc_return(w,returns)\n",
    "#print(pf_ret)\n",
    "pf_vol = calc_vola(w,cov)\n",
    "#print(pf_vol)\n",
    "#y"
   ]
  },
  {
   "cell_type": "code",
   "execution_count": 94,
   "metadata": {},
   "outputs": [],
   "source": [
    "from bokeh.plotting import figure, output_file, show\n",
    "\n",
    "# output to static HTML file\n",
    "output_file(\"markowitz.html\")\n",
    "\n",
    "# create a new plot\n",
    "p = figure(\n",
    "   tools=\"pan,box_zoom,reset,save\",\n",
    "   title=\"Efficient frontier for 2 assets\",\n",
    "   x_axis_label='volatility', y_axis_label='return'\n",
    ")\n",
    "\n",
    "# add some renderers\n",
    "p.line(x,y)\n",
    "#p.circle(x, volas, legend=\"y=x\", fill_color=\"white\", size=8)\n",
    "\n",
    "# show the results\n",
    "show(p)"
   ]
  },
  {
   "cell_type": "code",
   "execution_count": null,
   "metadata": {},
   "outputs": [],
   "source": []
  },
  {
   "cell_type": "code",
   "execution_count": null,
   "metadata": {},
   "outputs": [],
   "source": []
  },
  {
   "cell_type": "code",
   "execution_count": null,
   "metadata": {},
   "outputs": [],
   "source": []
  }
 ],
 "metadata": {
  "kernelspec": {
   "display_name": "Python 3",
   "language": "python",
   "name": "python3"
  },
  "language_info": {
   "codemirror_mode": {
    "name": "ipython",
    "version": 3
   },
   "file_extension": ".py",
   "mimetype": "text/x-python",
   "name": "python",
   "nbconvert_exporter": "python",
   "pygments_lexer": "ipython3",
   "version": "3.6.5"
  }
 },
 "nbformat": 4,
 "nbformat_minor": 2
}
